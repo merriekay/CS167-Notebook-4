{
  "nbformat": 4,
  "nbformat_minor": 0,
  "metadata": {
    "colab": {
      "name": "Notebook4_starter.ipynb",
      "provenance": [],
      "authorship_tag": "ABX9TyPs4cCQjfunF2r7srxu5/q2",
      "include_colab_link": true
    },
    "kernelspec": {
      "name": "python3",
      "display_name": "Python 3"
    },
    "language_info": {
      "name": "python"
    }
  },
  "cells": [
    {
      "cell_type": "markdown",
      "metadata": {
        "id": "view-in-github",
        "colab_type": "text"
      },
      "source": [
        "<a href=\"https://colab.research.google.com/github/merriekay/Notebook-4/blob/main/Notebook4_starter.ipynb\" target=\"_parent\"><img src=\"https://colab.research.google.com/assets/colab-badge.svg\" alt=\"Open In Colab\"/></a>"
      ]
    },
    {
      "cell_type": "markdown",
      "metadata": {
        "id": "G04Rsb8TOYv1"
      },
      "source": [
        "# Notebook \\#4\n",
        "\n",
        "## Part 1:\n",
        "**1.)** You must run at least 6 variations of the algorithms and display their results using an appropriate regression metric (again, use the scikit-learn modules). I will be looking for the following to be included in your comparison:\n",
        "\n",
        "*   k-Nearest-Neighbor with a small value of k\n",
        "*   k-Nearest-Neighbor with a large value of k\n",
        "*   weighted k-Nearest-Neighbor with a small value of k (the same one you used for the unweighted version)\n",
        "*  weighted k-Nearest-Neighbor with a large value of k (the same one you used for the unweighted version) \n",
        "*   a decision tree with default parameter values\n",
        "*   a decision tree, setting some kind of parameter that results in a smaller tree"
      ]
    },
    {
      "cell_type": "code",
      "metadata": {
        "id": "fWJ8-XD8OzPx"
      },
      "source": [
        "# load in the data and necessary libraries\n",
        "import sklearn\n",
        "import pandas\n",
        "from sklearn import tree\n",
        "from sklearn.model_selection import train_test_split\n",
        "from sklearn import metrics\n",
        "from sklearn import neighbors\n",
        "from sklearn.preprocessing import StandardScaler\n",
        "\n",
        "from google.colab import drive\n",
        "drive.mount('/content/drive')\n",
        "wine = pandas.read_csv('/content/drive/MyDrive/datasets/winequality.csv') # change this to match your dataset directory"
      ],
      "execution_count": null,
      "outputs": []
    },
    {
      "cell_type": "code",
      "metadata": {
        "id": "MpuWbT-NOUx8"
      },
      "source": [
        "# kNN with small k\n"
      ],
      "execution_count": 1,
      "outputs": []
    },
    {
      "cell_type": "code",
      "metadata": {
        "id": "o1q07BzTOjnE"
      },
      "source": [
        "# kNN with large k\n"
      ],
      "execution_count": 2,
      "outputs": []
    },
    {
      "cell_type": "code",
      "metadata": {
        "id": "m0Wc76gfOnQL"
      },
      "source": [
        "# w-knn with small k\n"
      ],
      "execution_count": 3,
      "outputs": []
    },
    {
      "cell_type": "code",
      "metadata": {
        "id": "k5rFt9wkOqKF"
      },
      "source": [
        "# w-knn with large k\n"
      ],
      "execution_count": 4,
      "outputs": []
    },
    {
      "cell_type": "code",
      "metadata": {
        "id": "S5kncBKlOrhc"
      },
      "source": [
        "# decision tree with default paramters\n"
      ],
      "execution_count": 5,
      "outputs": []
    },
    {
      "cell_type": "code",
      "metadata": {
        "id": "7QDjUeiyOt53"
      },
      "source": [
        "# decision tree with some kind of parameter that (hopefully) results in a smaller tree\n"
      ],
      "execution_count": 6,
      "outputs": []
    },
    {
      "cell_type": "markdown",
      "metadata": {
        "id": "O_1BW2sPPNro"
      },
      "source": [
        "## Part 2: kNN on Normalized data\n",
        "**2.)** Normalize the data and run a k-Nearest-Neighbor algorithm on it. (use the StandardScalar from sklearn)"
      ]
    },
    {
      "cell_type": "code",
      "metadata": {
        "id": "Y1-4z4VHOxBt"
      },
      "source": [
        "# normalize the data\n",
        "\n",
        "\n",
        "# run a knn\n"
      ],
      "execution_count": 7,
      "outputs": []
    },
    {
      "cell_type": "markdown",
      "metadata": {
        "id": "28SLxo80PckN"
      },
      "source": [
        "## Part 3:\n",
        "**3.)**Use a Markup cell to answer the following questions:\n",
        "\n",
        "- What algorithm performed better? kNN or Decision Trees? Why do you think this was the case?\n",
        "- What effect did normalizing the data have on your results? Explain."
      ]
    }
  ]
}